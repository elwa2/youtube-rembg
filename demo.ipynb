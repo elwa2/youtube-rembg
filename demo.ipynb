{
 "cells": [
  {
   "cell_type": "code",
   "execution_count": 1,
   "id": "a447a389-055e-440d-9b3f-eecd9fe0a041",
   "metadata": {},
   "outputs": [],
   "source": [
    "from rembg import remove\n",
    "from PIL import Image\n",
    "import io"
   ]
  },
  {
   "cell_type": "code",
   "execution_count": 3,
   "id": "e25a708e-42f9-427b-8155-bdebfa0c5f4c",
   "metadata": {},
   "outputs": [],
   "source": [
    "input_path = 'images/newspaper.jpg'\n",
    "output_path = input_path.replace(\"images\", \"results\")\n",
    "\n",
    "with open(input_path, 'rb') as i:\n",
    "    with open(output_path, 'wb') as o:\n",
    "        original_image = i.read()\n",
    "        output = remove(original_image)\n",
    "        o.write(output)"
   ]
  },
  {
   "cell_type": "markdown",
   "id": "e505309d-6de6-47dc-a91b-77a91ec967c1",
   "metadata": {},
   "source": [
    "Cheetah Example\n",
    "Original | Background Removed\n",
    "- | - \n",
    "![alt](images/cheetah.jpg) | ![alt](results/cheetah.jpg)"
   ]
  },
  {
   "cell_type": "markdown",
   "id": "a57d6580-590e-49cf-b3c5-25420d0d5aa6",
   "metadata": {},
   "source": [
    "Manuscript Example\n",
    "Original | Background Removed\n",
    "- | - \n",
    "![alt](images/manuscript.png) | ![alt](results/manuscript.png)"
   ]
  },
  {
   "cell_type": "markdown",
   "id": "a4da84ac-0f61-4e30-8433-c14e883a219a",
   "metadata": {},
   "source": [
    "Newspaper Example\n",
    "Original | Background Removed\n",
    "- | - \n",
    "![alt](images/newspaper.jpg) | ![alt](results/newspaper.jpg) "
   ]
  },
  {
   "cell_type": "code",
   "execution_count": null,
   "id": "f63d77e5-b393-49ef-b90a-0ee945ce7555",
   "metadata": {},
   "outputs": [],
   "source": []
  }
 ],
 "metadata": {
  "kernelspec": {
   "display_name": "Python 3 (ipykernel)",
   "language": "python",
   "name": "python3"
  },
  "language_info": {
   "codemirror_mode": {
    "name": "ipython",
    "version": 3
   },
   "file_extension": ".py",
   "mimetype": "text/x-python",
   "name": "python",
   "nbconvert_exporter": "python",
   "pygments_lexer": "ipython3",
   "version": "3.9.13"
  }
 },
 "nbformat": 4,
 "nbformat_minor": 5
}
